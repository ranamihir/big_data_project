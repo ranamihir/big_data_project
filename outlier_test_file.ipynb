{
 "cells": [
  {
   "cell_type": "code",
   "execution_count": 1,
   "metadata": {
    "collapsed": true
   },
   "outputs": [],
   "source": [
    "from pyspark import SparkContext\n",
    "from pyspark.sql import SQLContext, SparkSession\n",
    "from pyspark.sql.functions import UserDefinedFunction\n",
    "from pyspark.sql.types import StringType, IntegerType, DoubleType\n",
    "from pyspark.sql.functions import *\n",
    "import utils\n",
    "import numeric_outliers"
   ]
  },
  {
   "cell_type": "code",
   "execution_count": 2,
   "metadata": {
    "collapsed": true
   },
   "outputs": [],
   "source": [
    "spark = SparkSession \\\n",
    "        .builder \\\n",
    "        .appName(\"Nulls and Outliers Detection 1\") \\\n",
    "        .getOrCreate()\n"
   ]
  },
  {
   "cell_type": "code",
   "execution_count": 3,
   "metadata": {
    "collapsed": true
   },
   "outputs": [],
   "source": [
    "df_temp = df = spark.read.csv(path = 'GROUP7/bss9-579f_clean/part-00000-919430be-1ef9-4fee-9d5f-c8cac19198b3-c000.csv', header = True,inferSchema = True, sep='\\t')"
   ]
  },
  {
   "cell_type": "code",
   "execution_count": 6,
   "metadata": {},
   "outputs": [],
   "source": [
    "df_count = df_temp.count()"
   ]
  },
  {
   "cell_type": "code",
   "execution_count": 8,
   "metadata": {},
   "outputs": [
    {
     "name": "stdout",
     "output_type": "stream",
     "text": [
      "comparable_rental_2_gross_sqft   counts: 45   counts % = 9.375%\n",
      "brooklyn_condominiums_comparable_properties_estimated_expense   counts: 46   counts % = 9.583333333333334%\n",
      "brooklyn_condominiums_comparable_properties_total_units   counts: 48   counts % = 10.0%\n",
      "brooklyn_condominiums_comparable_properties_expense_per_sqft   counts: 5   counts % = 1.0416666666666665%\n",
      "comparable_rental_2_gross_income_per_sqft   counts: 9   counts % = 1.875%\n",
      "comparable_rental_1_gross_income_per_sqft   counts: 4   counts % = 0.8333333333333334%\n",
      "comparable_rental_1_estimated_expense   counts: 53   counts % = 11.041666666666666%\n",
      "comparable_rental_1_net_operating_income   counts: 63   counts % = 13.125%\n",
      "comparable_rental_2_estimated_expense   counts: 52   counts % = 10.833333333333334%\n",
      "brooklyn_condominiums_comparable_properties_gross_sqft   counts: 45   counts % = 9.375%\n",
      "brooklyn_condominiums_comparable_properties_market_value_per_sqft   counts: 3   counts % = 0.625%\n",
      "brooklyn_condominiums_comparable_properties_gross_income_per_sqft   counts: 8   counts % = 1.6666666666666667%\n",
      "comparable_rental_2_estimated_gross_income   counts: 59   counts % = 12.291666666666666%\n",
      "comparable_rental_2_year_built   counts: 63   counts % = 13.125%\n",
      "brooklyn_condominiums_comparable_properties_full_market_value   counts: 53   counts % = 11.041666666666666%\n",
      "comparable_rental_2_distance_from_condo_in_miles   counts: 51   counts % = 10.625%\n",
      "comparable_rental_1_estimated_gross_income   counts: 66   counts % = 13.750000000000002%\n",
      "brooklyn_condominiums_comparable_properties_net_operating_income   counts: 52   counts % = 10.833333333333334%\n",
      "comparable_rental_1_year_built   counts: 104   counts % = 21.666666666666668%\n",
      "comparable_rental_3_distance_from_condo_in_miles   counts: 48   counts % = 10.0%\n",
      "comparable_rental_1_expense_per_sqft   counts: 1   counts % = 0.20833333333333334%\n",
      "comparable_rental_3_market_value_per_sqft   counts: 12   counts % = 2.5%\n",
      "brooklyn_condominiums_comparable_properties_estimated_gross_income   counts: 50   counts % = 10.416666666666668%\n",
      "comparable_rental_1_full_market_value   counts: 59   counts % = 12.291666666666666%\n",
      "comparable_rental_2_expense_per_sqft   counts: 0   counts % = 0.0%\n",
      "comparable_rental_3_year_built   counts: 73   counts % = 15.208333333333332%\n",
      "comparable_rental_3_expense_per_sqft   counts: 3   counts % = 0.625%\n",
      "comparable_rental_1_total_units   counts: 60   counts % = 12.5%\n",
      "comparable_rental_1_market_value_per_sqft   counts: 1   counts % = 0.20833333333333334%\n",
      "comparable_rental_2_total_units   counts: 53   counts % = 11.041666666666666%\n",
      "comparable_rental_2_full_market_value   counts: 36   counts % = 7.5%\n",
      "brooklyn_condominiums_comparable_properties_year_built   counts: 93   counts % = 19.375%\n",
      "comparable_rental_1_distance_from_condo_in_miles   counts: 41   counts % = 8.541666666666666%\n",
      "comparable_rental_3_total_units   counts: 35   counts % = 7.291666666666667%\n",
      "comparable_rental_2_net_operating_income   counts: 40   counts % = 8.333333333333332%\n",
      "comparable_rental_1_gross_sqft   counts: 70   counts % = 14.583333333333334%\n",
      "comparable_rental_2_market_value_per_sqft   counts: 14   counts % = 2.9166666666666665%\n",
      "comparable_rental_3_gross_income_per_sqft   counts: 16   counts % = 3.3333333333333335%\n"
     ]
    }
   ],
   "source": [
    "keyval = {}\n",
    "for col,dtype in df_temp.dtypes:\n",
    "    if 'string' not in dtype and col!='rid':\n",
    "        \n",
    "        keyval[col] = numeric_outliers.get_outliers(df_temp,col)\n",
    "        print(col , \"  counts:\",keyval[col].count(),'  counts % = {}%'.format(100*(keyval[col].count()/df_count)))"
   ]
  },
  {
   "cell_type": "code",
   "execution_count": null,
   "metadata": {
    "collapsed": true
   },
   "outputs": [],
   "source": []
  }
 ],
 "metadata": {
  "kernelspec": {
   "display_name": "Python 3",
   "language": "python",
   "name": "python3"
  },
  "language_info": {
   "codemirror_mode": {
    "name": "ipython",
    "version": 3
   },
   "file_extension": ".py",
   "mimetype": "text/x-python",
   "name": "python",
   "nbconvert_exporter": "python",
   "pygments_lexer": "ipython3",
   "version": "3.6.2"
  }
 },
 "nbformat": 4,
 "nbformat_minor": 2
}
