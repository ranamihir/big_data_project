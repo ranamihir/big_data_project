{
 "cells": [
  {
   "cell_type": "code",
   "execution_count": 1,
   "metadata": {},
   "outputs": [],
   "source": [
    "import findspark\n",
    "findspark.init()"
   ]
  },
  {
   "cell_type": "code",
   "execution_count": 2,
   "metadata": {},
   "outputs": [],
   "source": [
    "from pyspark.sql import SparkSession\n",
    "from pyspark.sql.types import DoubleType\n",
    "from pyspark.sql.functions import *\n",
    "from pyspark.mllib.feature import StandardScaler, StandardScalerModel\n",
    "from pyspark.mllib.linalg import Vectors\n",
    "from pyspark.mllib.clustering import GaussianMixture, GaussianMixtureModel\n",
    "from pyspark import SparkContext\n",
    "import numpy as np\n",
    "import sys\n",
    "from scipy.spatial.distance import mahalanobis\n",
    "import get_outliers\n"
   ]
  },
  {
   "cell_type": "code",
   "execution_count": 3,
   "metadata": {},
   "outputs": [],
   "source": [
    "spark = SparkSession \\\n",
    "        .builder \\\n",
    "        .appName(\"Nulls and Outliers Detection 1\") \\\n",
    "        .getOrCreate()\n"
   ]
  },
  {
   "cell_type": "code",
   "execution_count": 4,
   "metadata": {},
   "outputs": [],
   "source": [
    "df = spark.read.csv(path = 'GROUP7/bss9-579f_clean.tsv', header = True,inferSchema = True, sep='\\t')"
   ]
  },
  {
   "cell_type": "code",
   "execution_count": 7,
   "metadata": {},
   "outputs": [],
   "source": [
    "#df_temp.select([numeric_cols[2],*numeric_cols_temp])\n",
    "df = df.withColumn('rid', monotonically_increasing_id())"
   ]
  },
  {
   "cell_type": "code",
   "execution_count": 5,
   "metadata": {},
   "outputs": [],
   "source": [
    "numeric_cols = []\n",
    "for col,dtype in df.dtypes:\n",
    "    if 'string' not in dtype and col!='rid':\n",
    "        numeric_cols.append(col)\n",
    "numeric_cols_temp = numeric_cols[:2]"
   ]
  },
  {
   "cell_type": "code",
   "execution_count": 10,
   "metadata": {},
   "outputs": [
    {
     "name": "stderr",
     "output_type": "stream",
     "text": [
      "----------------------------------------\n",
      "Exception happened during processing of request from ('127.0.0.1', 57295)\n",
      "Traceback (most recent call last):\n",
      "  File \"/Users/apple/anaconda3/lib/python3.6/socketserver.py\", line 317, in _handle_request_noblock\n",
      "    self.process_request(request, client_address)\n",
      "  File \"/Users/apple/anaconda3/lib/python3.6/socketserver.py\", line 348, in process_request\n",
      "    self.finish_request(request, client_address)\n",
      "  File \"/Users/apple/anaconda3/lib/python3.6/socketserver.py\", line 361, in finish_request\n",
      "    self.RequestHandlerClass(request, client_address, self)\n",
      "  File \"/Users/apple/anaconda3/lib/python3.6/socketserver.py\", line 696, in __init__\n",
      "    self.handle()\n",
      "  File \"/Users/apple/spark-2.3.0-bin-hadoop2.7/python/pyspark/accumulators.py\", line 235, in handle\n",
      "    num_updates = read_int(self.rfile)\n",
      "  File \"/Users/apple/spark-2.3.0-bin-hadoop2.7/python/pyspark/serializers.py\", line 685, in read_int\n",
      "    raise EOFError\n",
      "EOFError\n",
      "----------------------------------------\n",
      "ERROR:root:Exception while sending command.\n",
      "Traceback (most recent call last):\n",
      "  File \"/Users/apple/spark-2.3.0-bin-hadoop2.7/python/lib/py4j-0.10.6-src.zip/py4j/java_gateway.py\", line 1062, in send_command\n",
      "    raise Py4JNetworkError(\"Answer from Java side is empty\")\n",
      "py4j.protocol.Py4JNetworkError: Answer from Java side is empty\n",
      "\n",
      "During handling of the above exception, another exception occurred:\n",
      "\n",
      "Traceback (most recent call last):\n",
      "  File \"/Users/apple/spark-2.3.0-bin-hadoop2.7/python/lib/py4j-0.10.6-src.zip/py4j/java_gateway.py\", line 908, in send_command\n",
      "    response = connection.send_command(command)\n",
      "  File \"/Users/apple/spark-2.3.0-bin-hadoop2.7/python/lib/py4j-0.10.6-src.zip/py4j/java_gateway.py\", line 1067, in send_command\n",
      "    \"Error while receiving\", e, proto.ERROR_ON_RECEIVE)\n",
      "py4j.protocol.Py4JNetworkError: Error while receiving\n"
     ]
    },
    {
     "ename": "Py4JError",
     "evalue": "An error occurred while calling o606.approxQuantile",
     "output_type": "error",
     "traceback": [
      "\u001b[0;31m---------------------------------------------------------------------------\u001b[0m",
      "\u001b[0;31mPy4JError\u001b[0m                                 Traceback (most recent call last)",
      "\u001b[0;32m<ipython-input-10-73960076fc2e>\u001b[0m in \u001b[0;36m<module>\u001b[0;34m()\u001b[0m\n\u001b[0;32m----> 1\u001b[0;31m \u001b[0moutliers\u001b[0m \u001b[0;34m=\u001b[0m \u001b[0mget_outliers\u001b[0m\u001b[0;34m.\u001b[0m\u001b[0mgmm_outliers\u001b[0m\u001b[0;34m(\u001b[0m\u001b[0mdf\u001b[0m\u001b[0;34m,\u001b[0m\u001b[0mnumeric_cols_temp\u001b[0m\u001b[0;34m)\u001b[0m\u001b[0;34m\u001b[0m\u001b[0m\n\u001b[0m",
      "\u001b[0;32m~/Documents/Acads/Masters/Github/big_data_project/get_outliers.py\u001b[0m in \u001b[0;36mgmm_outliers\u001b[0;34m(df, numeric_cols, k, maxIterations)\u001b[0m\n\u001b[1;32m    121\u001b[0m     \u001b[0mcols\u001b[0m \u001b[0;34m=\u001b[0m \u001b[0;34m[\u001b[0m\u001b[0;34m'rid'\u001b[0m\u001b[0;34m,\u001b[0m \u001b[0;34m'c_no'\u001b[0m\u001b[0;34m,\u001b[0m \u001b[0;34m'dist_c'\u001b[0m\u001b[0;34m]\u001b[0m\u001b[0;34m\u001b[0m\u001b[0m\n\u001b[1;32m    122\u001b[0m     \u001b[0mgmm_df\u001b[0m \u001b[0;34m=\u001b[0m \u001b[0mrdd_w_clusts\u001b[0m\u001b[0;34m.\u001b[0m\u001b[0mtoDF\u001b[0m\u001b[0;34m(\u001b[0m\u001b[0mcols\u001b[0m\u001b[0;34m)\u001b[0m\u001b[0;34m\u001b[0m\u001b[0m\n\u001b[0;32m--> 123\u001b[0;31m     \u001b[0moutlier_all\u001b[0m\u001b[0;34m,\u001b[0m \u001b[0m_\u001b[0m \u001b[0;34m=\u001b[0m \u001b[0miqr_outliers\u001b[0m\u001b[0;34m(\u001b[0m\u001b[0mgmm_df\u001b[0m\u001b[0;34m.\u001b[0m\u001b[0mwhere\u001b[0m\u001b[0;34m(\u001b[0m\u001b[0mgmm_df\u001b[0m\u001b[0;34m[\u001b[0m\u001b[0;34m'c_no'\u001b[0m\u001b[0;34m]\u001b[0m \u001b[0;34m==\u001b[0m \u001b[0;36m0\u001b[0m\u001b[0;34m)\u001b[0m\u001b[0;34m,\u001b[0m \u001b[0;34m'dist_c'\u001b[0m\u001b[0;34m)\u001b[0m\u001b[0;34m\u001b[0m\u001b[0m\n\u001b[0m\u001b[1;32m    124\u001b[0m     \u001b[0;32mfor\u001b[0m \u001b[0mi\u001b[0m \u001b[0;32min\u001b[0m \u001b[0mrange\u001b[0m\u001b[0;34m(\u001b[0m\u001b[0;36m1\u001b[0m\u001b[0;34m,\u001b[0m \u001b[0mk\u001b[0m\u001b[0;34m)\u001b[0m\u001b[0;34m:\u001b[0m\u001b[0;34m\u001b[0m\u001b[0m\n\u001b[1;32m    125\u001b[0m         \u001b[0moutlier_c\u001b[0m\u001b[0;34m,\u001b[0m \u001b[0m_\u001b[0m \u001b[0;34m=\u001b[0m \u001b[0miqr_outliers\u001b[0m\u001b[0;34m(\u001b[0m\u001b[0mgmm_df\u001b[0m\u001b[0;34m.\u001b[0m\u001b[0mwhere\u001b[0m\u001b[0;34m(\u001b[0m\u001b[0mgmm_df\u001b[0m\u001b[0;34m[\u001b[0m\u001b[0;34m'c_no'\u001b[0m\u001b[0;34m]\u001b[0m \u001b[0;34m==\u001b[0m \u001b[0mi\u001b[0m\u001b[0;34m)\u001b[0m\u001b[0;34m,\u001b[0m \u001b[0;34m'dist_c'\u001b[0m\u001b[0;34m)\u001b[0m\u001b[0;34m\u001b[0m\u001b[0m\n",
      "\u001b[0;32m~/Documents/Acads/Masters/Github/big_data_project/get_outliers.py\u001b[0m in \u001b[0;36miqr_outliers\u001b[0;34m(df, col, target_col, side, to_print)\u001b[0m\n\u001b[1;32m    145\u001b[0m         \u001b[0;32mreturn\u001b[0m \u001b[0mdf\u001b[0m\u001b[0;34m.\u001b[0m\u001b[0mselect\u001b[0m\u001b[0;34m(\u001b[0m\u001b[0;34m'rid'\u001b[0m\u001b[0;34m,\u001b[0m \u001b[0mcol\u001b[0m\u001b[0;34m)\u001b[0m\u001b[0;34m,\u001b[0m \u001b[0mdf\u001b[0m\u001b[0;34m.\u001b[0m\u001b[0mselect\u001b[0m\u001b[0;34m(\u001b[0m\u001b[0mtarget_col\u001b[0m\u001b[0;34m)\u001b[0m\u001b[0;34m\u001b[0m\u001b[0m\n\u001b[1;32m    146\u001b[0m \u001b[0;34m\u001b[0m\u001b[0m\n\u001b[0;32m--> 147\u001b[0;31m     \u001b[0mquantiles\u001b[0m \u001b[0;34m=\u001b[0m \u001b[0mdf\u001b[0m\u001b[0;34m.\u001b[0m\u001b[0mapproxQuantile\u001b[0m\u001b[0;34m(\u001b[0m\u001b[0mtarget_col\u001b[0m\u001b[0;34m,\u001b[0m\u001b[0;34m[\u001b[0m\u001b[0;36m0.25\u001b[0m\u001b[0;34m,\u001b[0m\u001b[0;36m0.75\u001b[0m\u001b[0;34m]\u001b[0m\u001b[0;34m,\u001b[0m\u001b[0;36m0.05\u001b[0m\u001b[0;34m)\u001b[0m\u001b[0;34m\u001b[0m\u001b[0m\n\u001b[0m\u001b[1;32m    148\u001b[0m     \u001b[0mIQR\u001b[0m \u001b[0;34m=\u001b[0m \u001b[0mquantiles\u001b[0m\u001b[0;34m[\u001b[0m\u001b[0;36m1\u001b[0m\u001b[0;34m]\u001b[0m \u001b[0;34m-\u001b[0m \u001b[0mquantiles\u001b[0m\u001b[0;34m[\u001b[0m\u001b[0;36m0\u001b[0m\u001b[0;34m]\u001b[0m\u001b[0;34m\u001b[0m\u001b[0m\n\u001b[1;32m    149\u001b[0m     \u001b[0mthreshold\u001b[0m \u001b[0;34m=\u001b[0m \u001b[0;36m1.5\u001b[0m\u001b[0;34m\u001b[0m\u001b[0m\n",
      "\u001b[0;32m~/spark-2.3.0-bin-hadoop2.7/python/pyspark/sql/dataframe.py\u001b[0m in \u001b[0;36mapproxQuantile\u001b[0;34m(self, col, probabilities, relativeError)\u001b[0m\n\u001b[1;32m   1742\u001b[0m         \u001b[0mrelativeError\u001b[0m \u001b[0;34m=\u001b[0m \u001b[0mfloat\u001b[0m\u001b[0;34m(\u001b[0m\u001b[0mrelativeError\u001b[0m\u001b[0;34m)\u001b[0m\u001b[0;34m\u001b[0m\u001b[0m\n\u001b[1;32m   1743\u001b[0m \u001b[0;34m\u001b[0m\u001b[0m\n\u001b[0;32m-> 1744\u001b[0;31m         \u001b[0mjaq\u001b[0m \u001b[0;34m=\u001b[0m \u001b[0mself\u001b[0m\u001b[0;34m.\u001b[0m\u001b[0m_jdf\u001b[0m\u001b[0;34m.\u001b[0m\u001b[0mstat\u001b[0m\u001b[0;34m(\u001b[0m\u001b[0;34m)\u001b[0m\u001b[0;34m.\u001b[0m\u001b[0mapproxQuantile\u001b[0m\u001b[0;34m(\u001b[0m\u001b[0mcol\u001b[0m\u001b[0;34m,\u001b[0m \u001b[0mprobabilities\u001b[0m\u001b[0;34m,\u001b[0m \u001b[0mrelativeError\u001b[0m\u001b[0;34m)\u001b[0m\u001b[0;34m\u001b[0m\u001b[0m\n\u001b[0m\u001b[1;32m   1745\u001b[0m         \u001b[0mjaq_list\u001b[0m \u001b[0;34m=\u001b[0m \u001b[0;34m[\u001b[0m\u001b[0mlist\u001b[0m\u001b[0;34m(\u001b[0m\u001b[0mj\u001b[0m\u001b[0;34m)\u001b[0m \u001b[0;32mfor\u001b[0m \u001b[0mj\u001b[0m \u001b[0;32min\u001b[0m \u001b[0mjaq\u001b[0m\u001b[0;34m]\u001b[0m\u001b[0;34m\u001b[0m\u001b[0m\n\u001b[1;32m   1746\u001b[0m         \u001b[0;32mreturn\u001b[0m \u001b[0mjaq_list\u001b[0m\u001b[0;34m[\u001b[0m\u001b[0;36m0\u001b[0m\u001b[0;34m]\u001b[0m \u001b[0;32mif\u001b[0m \u001b[0misStr\u001b[0m \u001b[0;32melse\u001b[0m \u001b[0mjaq_list\u001b[0m\u001b[0;34m\u001b[0m\u001b[0m\n",
      "\u001b[0;32m~/spark-2.3.0-bin-hadoop2.7/python/lib/py4j-0.10.6-src.zip/py4j/java_gateway.py\u001b[0m in \u001b[0;36m__call__\u001b[0;34m(self, *args)\u001b[0m\n\u001b[1;32m   1158\u001b[0m         \u001b[0manswer\u001b[0m \u001b[0;34m=\u001b[0m \u001b[0mself\u001b[0m\u001b[0;34m.\u001b[0m\u001b[0mgateway_client\u001b[0m\u001b[0;34m.\u001b[0m\u001b[0msend_command\u001b[0m\u001b[0;34m(\u001b[0m\u001b[0mcommand\u001b[0m\u001b[0;34m)\u001b[0m\u001b[0;34m\u001b[0m\u001b[0m\n\u001b[1;32m   1159\u001b[0m         return_value = get_return_value(\n\u001b[0;32m-> 1160\u001b[0;31m             answer, self.gateway_client, self.target_id, self.name)\n\u001b[0m\u001b[1;32m   1161\u001b[0m \u001b[0;34m\u001b[0m\u001b[0m\n\u001b[1;32m   1162\u001b[0m         \u001b[0;32mfor\u001b[0m \u001b[0mtemp_arg\u001b[0m \u001b[0;32min\u001b[0m \u001b[0mtemp_args\u001b[0m\u001b[0;34m:\u001b[0m\u001b[0;34m\u001b[0m\u001b[0m\n",
      "\u001b[0;32m~/spark-2.3.0-bin-hadoop2.7/python/pyspark/sql/utils.py\u001b[0m in \u001b[0;36mdeco\u001b[0;34m(*a, **kw)\u001b[0m\n\u001b[1;32m     61\u001b[0m     \u001b[0;32mdef\u001b[0m \u001b[0mdeco\u001b[0m\u001b[0;34m(\u001b[0m\u001b[0;34m*\u001b[0m\u001b[0ma\u001b[0m\u001b[0;34m,\u001b[0m \u001b[0;34m**\u001b[0m\u001b[0mkw\u001b[0m\u001b[0;34m)\u001b[0m\u001b[0;34m:\u001b[0m\u001b[0;34m\u001b[0m\u001b[0m\n\u001b[1;32m     62\u001b[0m         \u001b[0;32mtry\u001b[0m\u001b[0;34m:\u001b[0m\u001b[0;34m\u001b[0m\u001b[0m\n\u001b[0;32m---> 63\u001b[0;31m             \u001b[0;32mreturn\u001b[0m \u001b[0mf\u001b[0m\u001b[0;34m(\u001b[0m\u001b[0;34m*\u001b[0m\u001b[0ma\u001b[0m\u001b[0;34m,\u001b[0m \u001b[0;34m**\u001b[0m\u001b[0mkw\u001b[0m\u001b[0;34m)\u001b[0m\u001b[0;34m\u001b[0m\u001b[0m\n\u001b[0m\u001b[1;32m     64\u001b[0m         \u001b[0;32mexcept\u001b[0m \u001b[0mpy4j\u001b[0m\u001b[0;34m.\u001b[0m\u001b[0mprotocol\u001b[0m\u001b[0;34m.\u001b[0m\u001b[0mPy4JJavaError\u001b[0m \u001b[0;32mas\u001b[0m \u001b[0me\u001b[0m\u001b[0;34m:\u001b[0m\u001b[0;34m\u001b[0m\u001b[0m\n\u001b[1;32m     65\u001b[0m             \u001b[0ms\u001b[0m \u001b[0;34m=\u001b[0m \u001b[0me\u001b[0m\u001b[0;34m.\u001b[0m\u001b[0mjava_exception\u001b[0m\u001b[0;34m.\u001b[0m\u001b[0mtoString\u001b[0m\u001b[0;34m(\u001b[0m\u001b[0;34m)\u001b[0m\u001b[0;34m\u001b[0m\u001b[0m\n",
      "\u001b[0;32m~/spark-2.3.0-bin-hadoop2.7/python/lib/py4j-0.10.6-src.zip/py4j/protocol.py\u001b[0m in \u001b[0;36mget_return_value\u001b[0;34m(answer, gateway_client, target_id, name)\u001b[0m\n\u001b[1;32m    326\u001b[0m             raise Py4JError(\n\u001b[1;32m    327\u001b[0m                 \u001b[0;34m\"An error occurred while calling {0}{1}{2}\"\u001b[0m\u001b[0;34m.\u001b[0m\u001b[0;34m\u001b[0m\u001b[0m\n\u001b[0;32m--> 328\u001b[0;31m                 format(target_id, \".\", name))\n\u001b[0m\u001b[1;32m    329\u001b[0m     \u001b[0;32melse\u001b[0m\u001b[0;34m:\u001b[0m\u001b[0;34m\u001b[0m\u001b[0m\n\u001b[1;32m    330\u001b[0m         \u001b[0mtype\u001b[0m \u001b[0;34m=\u001b[0m \u001b[0manswer\u001b[0m\u001b[0;34m[\u001b[0m\u001b[0;36m1\u001b[0m\u001b[0;34m]\u001b[0m\u001b[0;34m\u001b[0m\u001b[0m\n",
      "\u001b[0;31mPy4JError\u001b[0m: An error occurred while calling o606.approxQuantile"
     ]
    }
   ],
   "source": [
    "outliers = get_outliers.gmm_outliers(df,numeric_cols_temp)"
   ]
  },
  {
   "cell_type": "code",
   "execution_count": 28,
   "metadata": {},
   "outputs": [
    {
     "data": {
      "text/plain": [
       "6"
      ]
     },
     "execution_count": 28,
     "metadata": {},
     "output_type": "execute_result"
    }
   ],
   "source": [
    "outliers.count()"
   ]
  },
  {
   "cell_type": "code",
   "execution_count": 34,
   "metadata": {},
   "outputs": [
    {
     "name": "stdout",
     "output_type": "stream",
     "text": [
      "+---+------------------+\n",
      "|rid|            dist_c|\n",
      "+---+------------------+\n",
      "| 81|4.1479892549341715|\n",
      "|188| 5.182550241547551|\n",
      "|189| 5.182550241547551|\n",
      "|374|2.4710958278221904|\n",
      "|405| 6.213406538086999|\n",
      "+---+------------------+\n",
      "\n"
     ]
    }
   ],
   "source": [
    "outliers.show()"
   ]
  },
  {
   "cell_type": "code",
   "execution_count": 5,
   "metadata": {},
   "outputs": [],
   "source": [
    "df_count = df_temp.count()"
   ]
  },
  {
   "cell_type": "code",
   "execution_count": 6,
   "metadata": {},
   "outputs": [
    {
     "data": {
      "text/plain": [
       "429"
      ]
     },
     "execution_count": 6,
     "metadata": {},
     "output_type": "execute_result"
    }
   ],
   "source": [
    "df_count"
   ]
  },
  {
   "cell_type": "code",
   "execution_count": 9,
   "metadata": {},
   "outputs": [
    {
     "data": {
      "text/plain": [
       "['comparable_rental_2_gross_sqft',\n",
       " 'comparable_rental_3_estimated_gross_income']"
      ]
     },
     "execution_count": 9,
     "metadata": {},
     "output_type": "execute_result"
    }
   ],
   "source": [
    "numeric_cols_temp"
   ]
  },
  {
   "cell_type": "code",
   "execution_count": 11,
   "metadata": {},
   "outputs": [],
   "source": [
    "df_col_rdd = df_temp.select(['rid',*numeric_cols_temp]).rdd"
   ]
  },
  {
   "cell_type": "code",
   "execution_count": null,
   "metadata": {},
   "outputs": [],
   "source": [
    "def kmeans_multivariate(df, numeric_cols, k=3, maxIterations=100):\n",
    "    def addclustercols(x):\n",
    "        points = np.array(x[1].toArray()).astype(float)\n",
    "        center = clusters.centers[0]\n",
    "        mindist = euclidean(points, center)\n",
    "        c1 = 0\n",
    "\n",
    "        for i in range(1, len(clusters.centers)):\n",
    "            center = clusters.centers[i]\n",
    "            dist = euclidean(points, center)\n",
    "            if dist < mindist:\n",
    "                c1 = i\n",
    "                mindist = dist\n",
    "        return (int(x[0]), int(c1), float(mindist))\n",
    "\n",
    "    cols = ['rid']\n",
    "    cols.extend(numeric_cols)\n",
    "    df_col_rdd = df[cols].rdd\n",
    "    label = df_col_rdd.map(lambda x: x[0])\n",
    "    vso = df_col_rdd.map(lambda x: np.array(x[1:]).astype(float))\n",
    "    scaler = StandardScaler(withMean=True, withStd=True).fit(vso)\n",
    "    vso = scaler.transform(vso)\n",
    "\n",
    "    clusters = KMeans.train(vso, k, initializationMode='random', maxIterations=maxIterations)\n",
    "    df_col_rdd = label.zip(vso).toDF().rdd\n",
    "    print(df_col_rdd.collect())\n",
    "    rdd_w_clusts = df_col_rdd.map(lambda x: addclustercols(x))\n",
    "    cols = ['rid', 'c_no', 'dist_c']\n",
    "    kmeans_df = rdd_w_clusts.toDF(cols)\n",
    "    outlier_all, _ = iqr_outliers(kmeans_df.where(kmeans_df['c_no'] == 0), 'dist_c')\n",
    "    for i in range(1, k):\n",
    "        outlier_c, _ = iqr_outliers(kmeans_df.where(kmeans_df['c_no'] == i), 'dist_c')\n",
    "        outlier_all = outlier_all.unionAll(outlier_c)\n",
    "    #print_outlier_summary(outlier_all.count(), df.count(), \"kMeans (multivariate)\")\n",
    "    return outlier_all"
   ]
  },
  {
   "cell_type": "code",
   "execution_count": null,
   "metadata": {},
   "outputs": [],
   "source": [
    "def gmm_outliers(df, numeric_cols, k=3, maxIterations=100):\n",
    "    def getDistances(x):\n",
    "        clust_center = x[0]\n",
    "        rid = x[1][0]\n",
    "        point = np.array(x[1][1].toArray()).astype(float)\n",
    "        dist = mahalanobis(clust_center,point,sigmas_inv[clust_center])\n",
    "        return (int(rid),int(clust_center),float(dist))\n",
    "    \n",
    "    \n",
    "    # Convert to array if only one column (univariate) passed\n",
    "    if not isinstance(numeric_cols, list):\n",
    "        numeric_cols = [numeric_cols]\n",
    "    cols = ['rid']\n",
    "    cols.extend(numeric_cols)\n",
    "    df_col_rdd = df[cols].rdd\n",
    "    rid = df_col_rdd.map(lambda x: x[0])\n",
    "    vso = df_col_rdd.map(lambda x: np.array(x[1:]).astype(float))\n",
    "    scaler = StandardScaler(withMean=True, withStd=True).fit(vso)\n",
    "    vso = scaler.transform(vso)\n",
    "    \n",
    "    gmm = GaussianMixture.train(vso, k, initializationMode='random', maxIterations=maxIterations,seed=10)\n",
    "    \n",
    "    df_col_rdd = rid.zip(vso).toDF().rdd\n",
    "    labels = gmm.predict(vso)\n",
    "    df_col_rdd = labels.zip(df_col_rdd)\n",
    "    mus = []\n",
    "    sigmas = []\n",
    "    sigmas_inv = []\n",
    "    for i in range(k):\n",
    "        mus.append(np.array(gmm.gaussians[i].mu.toArray()).astype(float))\n",
    "        sigmas.append(np.array(gmm.gaussians[i].sigma.toArray()).astype(float))\n",
    "        sigmas_inv.append(np.linalg.inv(sigmas[i]))\n",
    "    \n",
    "    #print(df_col_rdd.collect())\n",
    "    rdd_w_clusts = df_col_rdd.map(lambda x: getDistances(x))\n",
    "    cols = ['rid', 'c_no', 'dist_c']\n",
    "    gmm_df = rdd_w_clusts.toDF(cols)\n",
    "    outlier_all, _ = iqr_outliers(gmm_df.where(gmm_df['c_no'] == 0), 'dist_c')\n",
    "    for i in range(1, k):\n",
    "        outlier_c, _ = iqr_outliers(gmm_df.where(gmm_df['c_no'] == i), 'dist_c')\n",
    "        outlier_all = outlier_all.unionAll(outlier_c)\n",
    "    #print_outlier_summary(outlier_all.count(), df.count(), \"kMeans (multivariate)\")\n",
    "    return outlier_all"
   ]
  },
  {
   "cell_type": "code",
   "execution_count": 14,
   "metadata": {},
   "outputs": [],
   "source": [
    "def getDistances(x):\n",
    "    clust_center = x[0]\n",
    "    rid = x[1][0]\n",
    "    point = np.array(x[1][1].toArray()).astype(float)\n",
    "    dist = mahalanobis(clust_center,point,sigmas_inv[clust_center])\n",
    "    return (int(rid),int(clust_center),float(dist))\n",
    "    "
   ]
  },
  {
   "cell_type": "code",
   "execution_count": 15,
   "metadata": {},
   "outputs": [],
   "source": [
    "rid = df_col_rdd.map(lambda x:x[0])\n",
    "features = df_col_rdd.map(lambda x: np.array(x[1:]).astype(float))\n",
    "scaler2 = StandardScaler(withMean=True, withStd=True).fit(features)\n",
    "features = scaler2.transform(features)\n",
    "zipped_col = rid.zip(features)\n",
    "gmm = GaussianMixture.train(features,3,seed=1337)\n",
    "labels = gmm.predict(features)\n",
    "mus = []\n",
    "sigmas = []\n",
    "sigmas_inv = []\n",
    "for i in range(3):\n",
    "    mus.append(np.array(gmm.gaussians[i].mu.toArray()).astype(float))\n",
    "    sigmas.append(np.array(gmm.gaussians[i].sigma.toArray()).astype(float))\n",
    "    sigmas_inv.append(np.linalg.inv(sigmas[i]))\n",
    "final_rdd = labels.zip(zipped_col)\n",
    "rdd_w_clusts = final_rdd.map(lambda x: getDistances(x))"
   ]
  },
  {
   "cell_type": "code",
   "execution_count": 16,
   "metadata": {},
   "outputs": [
    {
     "data": {
      "text/plain": [
       "[(0, 1, 1.6157493512284935),\n",
       " (1, 2, 5.037896947225772),\n",
       " (2, 2, 4.914496888324025),\n",
       " (3, 1, 0.480143179996048),\n",
       " (4, 1, 0.480143179996048),\n",
       " (5, 1, 1.586501215480311),\n",
       " (6, 1, 1.1377510226370742),\n",
       " (7, 0, 3.672178588786419),\n",
       " (8, 2, 3.435728758056047),\n",
       " (9, 2, 3.827615459960983),\n",
       " (10, 2, 3.3594554444903837),\n",
       " (11, 1, 0.7062173884101974),\n",
       " (12, 2, 4.766588372501243),\n",
       " (13, 2, 4.766588372501243),\n",
       " (14, 0, 2.5537540781523216),\n",
       " (15, 0, 1.4339641415852962),\n",
       " (16, 2, 5.865149131673084),\n",
       " (17, 0, 1.4867203615713465),\n",
       " (18, 2, 5.865149131673084),\n",
       " (19, 0, 3.537943968921163),\n",
       " (20, 1, 0.7583379707118146),\n",
       " (21, 2, 4.914496888324025),\n",
       " (22, 2, 4.914496888324025),\n",
       " (23, 2, 4.739445655611526),\n",
       " (24, 2, 4.044553866416615),\n",
       " (25, 2, 4.914496888324025),\n",
       " (26, 0, 3.566614831080036),\n",
       " (27, 0, 3.3120996402045684),\n",
       " (28, 2, 5.527262479094956),\n",
       " (29, 2, 4.914496888324025),\n",
       " (30, 2, 4.914496888324025),\n",
       " (31, 2, 4.914496888324025),\n",
       " (32, 0, 3.3464604082346807),\n",
       " (33, 0, 3.5875029455217815),\n",
       " (34, 2, 4.914496888324025),\n",
       " (35, 2, 4.543557218329562),\n",
       " (36, 0, 3.672178588786419),\n",
       " (37, 0, 2.5214852384239546),\n",
       " (38, 2, 5.597357447794102),\n",
       " (39, 1, 0.49955611450389126),\n",
       " (40, 0, 3.672178588786419),\n",
       " (41, 0, 1.4867203615713465),\n",
       " (42, 2, 2.4971110432071755),\n",
       " (43, 2, 5.214103516779118),\n",
       " (44, 0, 3.772489261156468),\n",
       " (45, 0, 2.439702929090987),\n",
       " (46, 2, 3.997141747030706),\n",
       " (47, 1, 0.8410435027159501),\n",
       " (48, 0, 2.901080729992126),\n",
       " (49, 1, 1.1230840638873354),\n",
       " (50, 2, 4.914496888324025),\n",
       " (51, 0, 3.2110542121688064),\n",
       " (52, 1, 0.7062173884101974),\n",
       " (53, 0, 2.92681355256804),\n",
       " (54, 2, 4.914496888324025),\n",
       " (55, 0, 2.779840899989701),\n",
       " (56, 2, 4.03739364964388),\n",
       " (57, 0, 3.266468868568926),\n",
       " (58, 0, 2.6195870149058877),\n",
       " (59, 0, 2.0095524705458403),\n",
       " (60, 2, 4.298965297897023),\n",
       " (61, 2, 5.207751822172763),\n",
       " (62, 0, 2.5342997338836537),\n",
       " (63, 0, 2.5342997338836537),\n",
       " (64, 0, 3.6975525433312613),\n",
       " (65, 0, 2.4269107000930963),\n",
       " (66, 0, 1.0189536725956179),\n",
       " (67, 0, 1.4339641415852962),\n",
       " (68, 2, 3.4385119163623665),\n",
       " (69, 2, 4.779801667074564),\n",
       " (70, 1, 0.7062173884101974),\n",
       " (71, 0, 2.4223763251870687),\n",
       " (72, 0, 2.0586054136267964),\n",
       " (73, 0, 3.890134223894957),\n",
       " (74, 0, 2.345583531412113),\n",
       " (75, 0, 1.2705497989926817),\n",
       " (76, 0, 2.0586054136267964),\n",
       " (77, 0, 2.439702929090987),\n",
       " (78, 0, 2.439702929090987),\n",
       " (79, 2, 4.914496888324025),\n",
       " (80, 2, 4.75641686415381),\n",
       " (81, 1, 3.789283301944063),\n",
       " (82, 0, 2.7314811912357175),\n",
       " (83, 2, 5.853150145020906),\n",
       " (84, 0, 2.7359098488629603),\n",
       " (85, 0, 3.254921517488265),\n",
       " (86, 2, 5.599126200206698),\n",
       " (87, 0, 4.142122917045742),\n",
       " (88, 1, 0.5496898224687041),\n",
       " (89, 0, 3.100695497551036),\n",
       " (90, 1, 0.8986496559941343),\n",
       " (91, 2, 5.0891033936777275),\n",
       " (92, 2, 5.0891033936777275),\n",
       " (93, 1, 1.0255932776503525),\n",
       " (94, 2, 5.418734115363643),\n",
       " (95, 0, 3.0214904521982975),\n",
       " (96, 2, 4.83394647135984),\n",
       " (97, 0, 2.927454241915067),\n",
       " (98, 2, 5.149741844961543),\n",
       " (99, 2, 4.591120264332734),\n",
       " (100, 0, 3.324801917359668),\n",
       " (101, 1, 1.9129339939737606),\n",
       " (102, 0, 3.9686398507961846),\n",
       " (103, 0, 2.1109681955919464),\n",
       " (104, 0, 3.0031820771984674),\n",
       " (105, 2, 5.597102097346301),\n",
       " (106, 2, 4.83394647135984),\n",
       " (107, 1, 1.0693357180804408),\n",
       " (108, 0, 4.049355652521505),\n",
       " (109, 0, 4.049355652521505),\n",
       " (110, 0, 4.049355652521505),\n",
       " (111, 0, 4.049355652521505),\n",
       " (112, 0, 4.049355652521505),\n",
       " (113, 2, 6.4932139253820145),\n",
       " (114, 0, 3.93710081104649),\n",
       " (115, 0, 3.215640183513906),\n",
       " (116, 2, 6.4932139253820145),\n",
       " (117, 0, 3.1620260523455967),\n",
       " (118, 0, 2.686236151883523),\n",
       " (119, 0, 3.5023850787860367),\n",
       " (120, 0, 1.078453678391209),\n",
       " (121, 0, 1.6322420178649877),\n",
       " (122, 0, 1.6861818706638172),\n",
       " (123, 0, 1.468939996614581),\n",
       " (124, 0, 1.468939996614581),\n",
       " (125, 0, 1.468939996614581),\n",
       " (126, 0, 1.468939996614581),\n",
       " (127, 0, 1.4391590651629227),\n",
       " (128, 0, 1.4391590651629227),\n",
       " (129, 0, 1.4391590651629227),\n",
       " (130, 0, 1.4391590651629227),\n",
       " (131, 0, 1.078453678391209),\n",
       " (132, 0, 1.078453678391209),\n",
       " (133, 0, 1.078453678391209),\n",
       " (134, 0, 1.078453678391209),\n",
       " (135, 0, 1.078453678391209),\n",
       " (136, 0, 1.078453678391209),\n",
       " (137, 0, 1.078453678391209),\n",
       " (138, 0, 1.5685783445804717),\n",
       " (139, 0, 1.5685783445804717),\n",
       " (140, 1, 0.564038011092202),\n",
       " (141, 1, 0.564038011092202),\n",
       " (142, 1, 0.564038011092202),\n",
       " (143, 1, 0.564038011092202),\n",
       " (144, 1, 0.564038011092202),\n",
       " (145, 0, 0.8670814437477464),\n",
       " (146, 2, 4.683144479859282),\n",
       " (147, 2, 4.683144479859282),\n",
       " (148, 1, 0.752386619426291),\n",
       " (149, 0, 1.435658498899396),\n",
       " (150, 2, 4.646595003773145),\n",
       " (151, 2, 4.646595003773145),\n",
       " (152, 2, 4.646595003773145),\n",
       " (153, 2, 4.646595003773145),\n",
       " (154, 2, 4.646595003773145),\n",
       " (155, 2, 4.55651480662988),\n",
       " (156, 2, 4.55651480662988),\n",
       " (157, 2, 4.55651480662988),\n",
       " (158, 2, 4.55651480662988),\n",
       " (159, 0, 1.4371575951186228),\n",
       " (160, 0, 1.4371575951186228),\n",
       " (161, 0, 1.4371575951186228),\n",
       " (162, 2, 4.677647586854885),\n",
       " (163, 2, 5.906520034423002),\n",
       " (164, 2, 4.677647586854885),\n",
       " (165, 0, 2.342792682959372),\n",
       " (166, 2, 4.416726894921131),\n",
       " (167, 2, 4.416726894921131),\n",
       " (168, 2, 4.668767075155114),\n",
       " (169, 2, 4.416726894921131),\n",
       " (170, 0, 1.2915765767303584),\n",
       " (171, 0, 0.9547954867189964),\n",
       " (172, 2, 4.914496888324025),\n",
       " (173, 2, 4.416726894921131),\n",
       " (174, 0, 3.4829833527722114),\n",
       " (175, 0, 2.1495380261835693),\n",
       " (176, 0, 1.2978905164696597),\n",
       " (177, 0, 3.3147726833742213),\n",
       " (178, 0, 3.4659941510246504),\n",
       " (179, 0, 3.62915070911481),\n",
       " (180, 0, 3.535050291197986),\n",
       " (181, 0, 1.3676458577517225),\n",
       " (182, 2, 5.369417954534118),\n",
       " (183, 0, 2.0586054136267964),\n",
       " (184, 1, 1.7337428242732118),\n",
       " (185, 0, 2.6247237617661816),\n",
       " (186, 2, 5.688165291899218),\n",
       " (187, 1, 0.7874571876008281),\n",
       " (188, 2, 3.4385119163623665),\n",
       " (189, 1, 4.218616088541481),\n",
       " (190, 2, 3.8498210502257937),\n",
       " (191, 0, 3.676735844739509),\n",
       " (192, 0, 1.0689414236352694),\n",
       " (193, 0, 1.0689414236352694),\n",
       " (194, 0, 1.6012028542231267),\n",
       " (195, 2, 5.874753795576665),\n",
       " (196, 0, 1.9727970083640514),\n",
       " (197, 0, 1.2399636775401919),\n",
       " (198, 0, 2.819277430104583),\n",
       " (199, 0, 1.5145751221599428),\n",
       " (200, 0, 2.8193625488915606),\n",
       " (201, 0, 1.800076296508436),\n",
       " (202, 0, 1.800076296508436),\n",
       " (203, 2, 6.417242200148758),\n",
       " (204, 0, 2.8084393401586074),\n",
       " (205, 0, 1.5177701972585034),\n",
       " (206, 0, 1.8288390934507404),\n",
       " (207, 0, 0.9935533649778051),\n",
       " (208, 2, 4.678446189405685),\n",
       " (209, 0, 1.343904876345825),\n",
       " (210, 0, 1.343904876345825),\n",
       " (211, 0, 1.3009760167795859),\n",
       " (212, 0, 1.3009806839172293),\n",
       " (213, 0, 1.6047451559846362),\n",
       " (214, 0, 0.981795647639092),\n",
       " (215, 0, 1.1418432667823546),\n",
       " (216, 0, 1.815794026367094),\n",
       " (217, 0, 1.2405929105158993),\n",
       " (218, 0, 1.3009806839172293),\n",
       " (219, 2, 3.522142729176681),\n",
       " (220, 0, 4.526400269637196),\n",
       " (221, 0, 1.3009760167795859),\n",
       " (222, 0, 1.4371575951186228),\n",
       " (223, 0, 1.4371575951186228),\n",
       " (224, 0, 1.4371575951186228),\n",
       " (225, 0, 1.4371575951186228),\n",
       " (226, 0, 1.335192085573085),\n",
       " (227, 0, 1.4371575951186228),\n",
       " (228, 0, 1.487185886157879),\n",
       " (229, 2, 5.277739244392636),\n",
       " (230, 0, 1.335192085573085),\n",
       " (231, 2, 5.277739244392636),\n",
       " (232, 2, 5.277739244392636),\n",
       " (233, 2, 5.277739244392636),\n",
       " (234, 0, 1.6737003773103132),\n",
       " (235, 0, 1.487185886157879),\n",
       " (236, 0, 0.981795647639092),\n",
       " (237, 0, 0.981795647639092),\n",
       " (238, 0, 0.981795647639092),\n",
       " (239, 2, 5.974677328137697),\n",
       " (240, 0, 1.7208358499080683),\n",
       " (241, 0, 1.7208358499080683),\n",
       " (242, 1, 1.8646124667777715),\n",
       " (243, 0, 1.3009760167795859),\n",
       " (244, 0, 1.7208358499080683),\n",
       " (245, 0, 1.7208358499080683),\n",
       " (246, 2, 5.08968682631741),\n",
       " (247, 2, 3.8676927649297723),\n",
       " (248, 2, 5.1357071253529725),\n",
       " (249, 0, 1.6047451559846362),\n",
       " (250, 0, 1.6047451559846362),\n",
       " (251, 0, 3.1092295900466356),\n",
       " (252, 0, 7.933214906349246),\n",
       " (253, 0, 7.933214906349246),\n",
       " (254, 0, 2.5748388290672604),\n",
       " (255, 0, 1.3009760167795859),\n",
       " (256, 0, 1.2405929105158993),\n",
       " (257, 0, 1.7848021287379041),\n",
       " (258, 0, 1.2405929105158993),\n",
       " (259, 2, 4.6854987817640685),\n",
       " (260, 0, 1.3009760167795859),\n",
       " (261, 0, 1.5958930173716543),\n",
       " (262, 0, 1.1418432667823546),\n",
       " (263, 0, 1.3009760167795859),\n",
       " (264, 0, 1.335192085573085),\n",
       " (265, 0, 1.335192085573085),\n",
       " (266, 0, 1.335192085573085),\n",
       " (267, 0, 1.335192085573085),\n",
       " (268, 0, 1.1418432667823546),\n",
       " (269, 0, 1.3009806839172293),\n",
       " (270, 0, 0.8670814437477464),\n",
       " (271, 0, 1.7208358499080683),\n",
       " (272, 0, 0.981795647639092),\n",
       " (273, 1, 0.6857442007148901),\n",
       " (274, 0, 1.815794026367094),\n",
       " (275, 1, 0.3238212250827596),\n",
       " (276, 0, 1.9727970083640514),\n",
       " (277, 0, 2.7667331438119387),\n",
       " (278, 0, 2.404673373268624),\n",
       " (279, 0, 3.118952570834762),\n",
       " (280, 0, 1.9727970083640514),\n",
       " (281, 0, 2.438407478691841),\n",
       " (282, 0, 2.7667331438119387),\n",
       " (283, 1, 0.4546128667698997),\n",
       " (284, 0, 1.6012028542231267),\n",
       " (285, 0, 3.2800178621136133),\n",
       " (286, 0, 2.3269661040035814),\n",
       " (287, 0, 2.7751889870959507),\n",
       " (288, 0, 2.431233992727491),\n",
       " (289, 0, 2.438407478691841),\n",
       " (290, 0, 1.8288390934507404),\n",
       " (291, 0, 2.7667331438119387),\n",
       " (292, 2, 5.2213646272519325),\n",
       " (293, 0, 2.743849947240824),\n",
       " (294, 0, 1.6012028542231267),\n",
       " (295, 1, 1.9712810518214015),\n",
       " (296, 0, 2.3275377766617282),\n",
       " (297, 0, 2.4219792057867933),\n",
       " (298, 0, 2.4285008803620736),\n",
       " (299, 0, 1.8643075957024466),\n",
       " (300, 0, 1.8288390934507404),\n",
       " (301, 0, 1.8288390934507404),\n",
       " (302, 0, 2.619316629871075),\n",
       " (303, 0, 2.619316629871075),\n",
       " (304, 0, 1.2627759754950179),\n",
       " (305, 0, 1.4557447294044825),\n",
       " (306, 0, 4.0531568598340115),\n",
       " (307, 0, 1.4557447294044825),\n",
       " (308, 0, 1.161529348834504),\n",
       " (309, 0, 2.438407478691841),\n",
       " (310, 0, 3.8575361466384055),\n",
       " (311, 0, 1.7675302317240016),\n",
       " (312, 0, 1.6737003773103132),\n",
       " (313, 0, 2.404673373268624),\n",
       " (314, 0, 2.7455421276090486),\n",
       " (315, 0, 2.037477099139944),\n",
       " (316, 0, 2.7751889870959507),\n",
       " (317, 2, 3.31003822332217),\n",
       " (318, 2, 3.31003822332217),\n",
       " (319, 0, 2.6384346452449843),\n",
       " (320, 0, 2.619316629871075),\n",
       " (321, 0, 1.4227608575555852),\n",
       " (322, 0, 1.5160386595830548),\n",
       " (323, 0, 2.45682760993592),\n",
       " (324, 0, 1.815794026367094),\n",
       " (325, 0, 3.66420318954968),\n",
       " (326, 0, 1.6014968098404057),\n",
       " (327, 0, 1.6014968098404057),\n",
       " (328, 0, 1.9635156941464929),\n",
       " (329, 0, 3.5947142524174427),\n",
       " (330, 0, 3.5947142524174427),\n",
       " (331, 0, 2.0224299506437298),\n",
       " (332, 0, 0.8498523607302497),\n",
       " (333, 0, 3.1388460533593516),\n",
       " (334, 0, 1.9635156941464929),\n",
       " (335, 0, 3.317035726599094),\n",
       " (336, 0, 4.184431596548342),\n",
       " (337, 0, 1.9635156941464929),\n",
       " (338, 0, 1.812510152208802),\n",
       " (339, 0, 1.9635156941464929),\n",
       " (340, 0, 1.812510152208802),\n",
       " (341, 0, 4.455120885546023),\n",
       " (342, 0, 3.0275351468267417),\n",
       " (343, 0, 1.0588290443401602),\n",
       " (344, 0, 4.3673971856979605),\n",
       " (345, 1, 1.5597909460740893),\n",
       " (346, 2, 3.690762326182969),\n",
       " (347, 0, 3.966804156263126),\n",
       " (348, 0, 2.7508232219947657),\n",
       " (349, 0, 2.041275623837835),\n",
       " (350, 1, 1.0593158854266793),\n",
       " (351, 1, 0.9470215696702343),\n",
       " (352, 0, 3.6737449336108274),\n",
       " (353, 0, 3.3897859772839958),\n",
       " (354, 2, 5.6136041363890286),\n",
       " (355, 0, 3.0195975411396363),\n",
       " (356, 0, 3.0195975411396363),\n",
       " (357, 0, 1.5836615764911417),\n",
       " (358, 0, 1.246965724595986),\n",
       " (359, 0, 2.8843865119523673),\n",
       " (360, 0, 3.7589177807405716),\n",
       " (361, 0, 3.596995421781919),\n",
       " (362, 2, 5.769043612802778),\n",
       " (363, 0, 3.0091951799480703),\n",
       " (364, 0, 3.0091951799480703),\n",
       " (365, 2, 3.12042921684415),\n",
       " (366, 0, 2.3469875321939053),\n",
       " (367, 0, 3.2323229006088714),\n",
       " (368, 0, 2.2879846066287435),\n",
       " (369, 1, 0.7467745312547952),\n",
       " (370, 0, 3.2983604428606434),\n",
       " (371, 2, 5.257380936957642),\n",
       " (372, 1, 0.5201283909033902),\n",
       " (373, 1, 0.7866067247440989),\n",
       " (374, 1, 1.9836899931745946),\n",
       " (375, 2, 5.444636098398312),\n",
       " (376, 0, 3.0341478183753727),\n",
       " (377, 2, 3.6300424088060224),\n",
       " (378, 2, 5.444636098398312),\n",
       " (379, 1, 1.9177645185046945),\n",
       " (380, 2, 3.12042921684415),\n",
       " (381, 2, 5.318516721275353),\n",
       " (382, 1, 1.9460569807377814),\n",
       " (383, 2, 3.12042921684415),\n",
       " (384, 0, 2.819277430104583),\n",
       " (385, 0, 3.0694457036387828),\n",
       " (386, 0, 3.2983604428606434),\n",
       " (387, 0, 3.043285070905092),\n",
       " (388, 0, 3.0694457036387828),\n",
       " (389, 0, 3.1092295900466356),\n",
       " (390, 1, 0.6427988970215079),\n",
       " (391, 1, 0.6427988970215079),\n",
       " (392, 2, 3.5498042592031203),\n",
       " (393, 2, 3.12042921684415),\n",
       " (394, 2, 4.057325960070734),\n",
       " (395, 0, 2.290395188709625),\n",
       " (396, 1, 1.094668612923168),\n",
       " (397, 0, 1.7611339269305883),\n",
       " (398, 0, 1.7611339269305883),\n",
       " (399, 2, 3.770582141635045),\n",
       " (400, 0, 2.7697381459835344),\n",
       " (401, 2, 5.414372093924109),\n",
       " (402, 0, 1.2164146023119116),\n",
       " (403, 2, 4.235910018607331),\n",
       " (404, 1, 1.6398982630729666),\n",
       " (405, 1, 5.355396921380845),\n",
       " (406, 2, 4.3877192495847135),\n",
       " (407, 2, 5.927819492481709),\n",
       " (408, 2, 3.770582141635045),\n",
       " (409, 1, 2.2884951510099247),\n",
       " (410, 1, 2.2884951510099247),\n",
       " (411, 0, 3.4419267515879843),\n",
       " (412, 0, 2.861503276370159),\n",
       " (413, 0, 3.4156673876661694),\n",
       " (414, 2, 3.12042921684415),\n",
       " (415, 1, 0.7866067247440989),\n",
       " (416, 1, 0.9972540581120399),\n",
       " (417, 2, 3.12042921684415),\n",
       " (418, 2, 3.12042921684415),\n",
       " (419, 2, 3.12042921684415),\n",
       " (420, 2, 3.12042921684415),\n",
       " (421, 2, 3.12042921684415),\n",
       " (422, 1, 1.0531984506374665),\n",
       " (423, 2, 3.12042921684415),\n",
       " (424, 0, 3.8691919796848455),\n",
       " (425, 2, 3.12042921684415),\n",
       " (426, 2, 3.12042921684415),\n",
       " (427, 2, 3.12042921684415),\n",
       " (428, 2, 3.12042921684415)]"
      ]
     },
     "execution_count": 16,
     "metadata": {},
     "output_type": "execute_result"
    }
   ],
   "source": [
    "rdd_w_clusts.collect()"
   ]
  },
  {
   "cell_type": "code",
   "execution_count": 17,
   "metadata": {},
   "outputs": [
    {
     "name": "stdout",
     "output_type": "stream",
     "text": [
      "+---+------------------+\n",
      "|rid|            dist_c|\n",
      "+---+------------------+\n",
      "| 55|10.314062129467214|\n",
      "| 95| 7.011739220781915|\n",
      "|106| 12.23565913521114|\n",
      "|136| 8.902770135532926|\n",
      "|168|  8.89644305691097|\n",
      "|181|   7.4663798817476|\n",
      "|182|45.262610980634086|\n",
      "|184|13.335141499372472|\n",
      "|187| 9.651443666794027|\n",
      "|188|   7.4663798817476|\n",
      "|189|45.262610980634086|\n",
      "|238|18.699328415701416|\n",
      "|283| 6.598462393680384|\n",
      "|363| 8.444450840662691|\n",
      "|366| 7.473797560307171|\n",
      "|367|10.762929003752038|\n",
      "|368| 20.60267540365328|\n",
      "+---+------------------+\n",
      "\n",
      "None\n"
     ]
    }
   ],
   "source": [
    "cols = ['rid', 'c_no', 'dist_c']\n",
    "gmm_df = rdd_w_clusts.toDF(cols)\n",
    "outlier_all,_ = get_outliers.iqr_outliers(gmm_df.where(gmm_df['c_no'] == 0), 'dist_c')\n",
    "print(outlier_all.show())\n",
    "for i in range(1, 3):\n",
    "    outlier_c,_ = get_outliers.iqr_outliers(gmm_df.where(gmm_df['c_no'] == i), 'dist_c')\n",
    "    outlier_all = outlier_all.unionAll(outlier_c)"
   ]
  },
  {
   "cell_type": "code",
   "execution_count": 19,
   "metadata": {},
   "outputs": [
    {
     "name": "stdout",
     "output_type": "stream",
     "text": [
      "+---+------------------+\n",
      "|rid|            dist_c|\n",
      "+---+------------------+\n",
      "|141| 8.902770135532926|\n",
      "|184|13.335141499372472|\n",
      "|269| 9.380789986499021|\n",
      "|283| 6.598462393680384|\n",
      "|343|15.943823411949214|\n",
      "|394| 7.272001113728344|\n",
      "|398|16.633697351050817|\n",
      "| 81| 3.789283301944063|\n",
      "|189| 4.218616088541481|\n",
      "|405| 5.355396921380845|\n",
      "|  2| 4.914496888324025|\n",
      "|  6|  3.98454317146752|\n",
      "|  8| 3.435728758056047|\n",
      "|  9| 3.827615459960983|\n",
      "| 10|3.3594554444903837|\n",
      "| 12| 4.766588372501243|\n",
      "| 13| 4.766588372501243|\n",
      "| 16| 5.865149131673084|\n",
      "| 18| 5.865149131673084|\n",
      "| 21| 4.914496888324025|\n",
      "+---+------------------+\n",
      "only showing top 20 rows\n",
      "\n"
     ]
    }
   ],
   "source": [
    "outlier_all.show()"
   ]
  },
  {
   "cell_type": "code",
   "execution_count": 28,
   "metadata": {},
   "outputs": [
    {
     "data": {
      "text/plain": [
       "128"
      ]
     },
     "execution_count": 28,
     "metadata": {},
     "output_type": "execute_result"
    }
   ],
   "source": [
    "outlier_all.count()"
   ]
  },
  {
   "cell_type": "code",
   "execution_count": 16,
   "metadata": {},
   "outputs": [
    {
     "name": "stdout",
     "output_type": "stream",
     "text": [
      "+---+----+------------------+\n",
      "|rid|c_no|            dist_c|\n",
      "+---+----+------------------+\n",
      "|  1|   0|0.8117517210082208|\n",
      "|  2|   0|0.7334522817581633|\n",
      "|  8|   0|2.1700238041536197|\n",
      "|  9|   0| 1.011470942919684|\n",
      "| 10|   0|1.9212433746789441|\n",
      "| 11|   0| 2.737360322556417|\n",
      "| 13|   0|0.6546418765833678|\n",
      "| 14|   0| 1.652383194679387|\n",
      "| 23|   0|0.7316090442932575|\n",
      "| 24|   0|0.7334522817581633|\n",
      "| 25|   0| 1.612225971612107|\n",
      "| 28|   0|1.0982602132588162|\n",
      "| 29|   0|0.7334522817581633|\n",
      "| 31|   0|0.7334522817581633|\n",
      "| 33|   0|1.4648307464931751|\n",
      "| 34|   0|0.7334522817581633|\n",
      "| 35|   0|0.7334522817581633|\n",
      "| 36|   0|0.7170991967175138|\n",
      "| 40|   0|1.3364845162594916|\n",
      "| 41|   0|1.1491516756768534|\n",
      "+---+----+------------------+\n",
      "only showing top 20 rows\n",
      "\n"
     ]
    }
   ],
   "source": [
    "gmm_df.where(gmm_df['c_no'] == 0).show()"
   ]
  },
  {
   "cell_type": "code",
   "execution_count": 97,
   "metadata": {},
   "outputs": [
    {
     "data": {
      "text/plain": [
       "23"
      ]
     },
     "execution_count": 97,
     "metadata": {},
     "output_type": "execute_result"
    }
   ],
   "source": [
    "outlier_all.count()"
   ]
  },
  {
   "cell_type": "code",
   "execution_count": 101,
   "metadata": {},
   "outputs": [
    {
     "name": "stdout",
     "output_type": "stream",
     "text": [
      "+---+------------------+------------------+\n",
      "|rid|            dist_c|            dist_c|\n",
      "+---+------------------+------------------+\n",
      "|  5|0.8181668075756773|0.8181668075756773|\n",
      "| 58|0.4197031162934129|0.4197031162934129|\n",
      "| 93| 2.955095923872292| 2.955095923872292|\n",
      "|116|1.6243447061841065|1.6243447061841065|\n",
      "|159| 3.732245738548085| 3.732245738548085|\n",
      "|214|0.8811070218418926|0.8811070218418926|\n",
      "|215|0.8811070218418926|0.8811070218418926|\n",
      "|220| 2.522640762227058| 2.522640762227058|\n",
      "|228|0.9198827528155038|0.9198827528155038|\n",
      "|279| 2.125132118809308| 2.125132118809308|\n",
      "|285|1.1357407816111917|1.1357407816111917|\n",
      "|340| 2.361567562202725| 2.361567562202725|\n",
      "|348| 2.155426764956365| 2.155426764956365|\n",
      "|389|0.8942177110847539|0.8942177110847539|\n",
      "|420|1.2516598756087944|1.2516598756087944|\n",
      "|425|1.1725064364430433|1.1725064364430433|\n",
      "|428|1.2087188464618732|1.2087188464618732|\n",
      "|451|0.9531737413850345|0.9531737413850345|\n",
      "|452|3.5158242168139813|3.5158242168139813|\n",
      "|457|  1.48224191173903|  1.48224191173903|\n",
      "+---+------------------+------------------+\n",
      "only showing top 20 rows\n",
      "\n"
     ]
    }
   ],
   "source": [
    "outlier_all.show()"
   ]
  },
  {
   "cell_type": "code",
   "execution_count": 89,
   "metadata": {},
   "outputs": [],
   "source": [
    "final_rdd = labels.zip(zipped_col)"
   ]
  },
  {
   "cell_type": "code",
   "execution_count": 36,
   "metadata": {},
   "outputs": [
    {
     "data": {
      "text/plain": [
       "[2, 0, 0, 0, 0]"
      ]
     },
     "execution_count": 36,
     "metadata": {},
     "output_type": "execute_result"
    }
   ],
   "source": [
    "labels.take(5)"
   ]
  },
  {
   "cell_type": "code",
   "execution_count": 30,
   "metadata": {},
   "outputs": [],
   "source": [
    "mus = []\n",
    "sigmas = []"
   ]
  },
  {
   "cell_type": "code",
   "execution_count": 31,
   "metadata": {},
   "outputs": [],
   "source": [
    "for i in range(3):\n",
    "    mus.append(np.array(gmm.gaussians[i].mu.toArray()).astype(float))\n",
    "    sigmas.append(np.array(gmm.gaussians[i].sigma.toArray()).astype(float))"
   ]
  },
  {
   "cell_type": "code",
   "execution_count": 32,
   "metadata": {},
   "outputs": [
    {
     "data": {
      "text/plain": [
       "[array([0.44592339, 0.43449696]),\n",
       " array([-0.46776086, -0.35164155]),\n",
       " array([3.15045825, 1.74866176])]"
      ]
     },
     "execution_count": 32,
     "metadata": {},
     "output_type": "execute_result"
    }
   ],
   "source": [
    "mus"
   ]
  },
  {
   "cell_type": "code",
   "execution_count": 33,
   "metadata": {},
   "outputs": [
    {
     "data": {
      "text/plain": [
       "[array([[0.47591458, 0.07829796],\n",
       "        [0.07829796, 0.74783396]]), array([[0.06576417, 0.03679376],\n",
       "        [0.03679376, 0.07849692]]), array([[ 2.13991533, -1.64727693],\n",
       "        [-1.64727693,  8.41836254]])]"
      ]
     },
     "execution_count": 33,
     "metadata": {},
     "output_type": "execute_result"
    }
   ],
   "source": [
    "sigmas"
   ]
  },
  {
   "cell_type": "code",
   "execution_count": 119,
   "metadata": {},
   "outputs": [
    {
     "data": {
      "text/plain": [
       "[(0, DenseVector([3.2302, 0.1908])),\n",
       " (1, DenseVector([-0.8191, 0.402])),\n",
       " (2, DenseVector([0.3915, 1.683])),\n",
       " (3, DenseVector([0.3915, 1.683])),\n",
       " (4, DenseVector([0.3915, 1.683]))]"
      ]
     },
     "execution_count": 119,
     "metadata": {},
     "output_type": "execute_result"
    }
   ],
   "source": [
    "zipped_col.take(5)"
   ]
  },
  {
   "cell_type": "code",
   "execution_count": 120,
   "metadata": {},
   "outputs": [],
   "source": [
    "zipped_col = zipped_col.map(lambda x:x[0]+1)"
   ]
  },
  {
   "cell_type": "code",
   "execution_count": 121,
   "metadata": {},
   "outputs": [
    {
     "data": {
      "text/plain": [
       "[1, 2, 3, 4, 5]"
      ]
     },
     "execution_count": 121,
     "metadata": {},
     "output_type": "execute_result"
    }
   ],
   "source": [
    "zipped_col.take(5)"
   ]
  },
  {
   "cell_type": "code",
   "execution_count": 82,
   "metadata": {},
   "outputs": [],
   "source": [
    "features = features.map(lambda x:x.tolist())"
   ]
  },
  {
   "cell_type": "code",
   "execution_count": 40,
   "metadata": {},
   "outputs": [
    {
     "name": "stderr",
     "output_type": "stream",
     "text": [
      "ERROR:py4j.java_gateway:An error occurred while trying to connect to the Java server (127.0.0.1:57058)\n",
      "Traceback (most recent call last):\n",
      "  File \"/Users/apple/spark-2.3.0-bin-hadoop2.7/python/lib/py4j-0.10.6-src.zip/py4j/java_gateway.py\", line 852, in _get_connection\n",
      "    connection = self.deque.pop()\n",
      "IndexError: pop from an empty deque\n",
      "\n",
      "During handling of the above exception, another exception occurred:\n",
      "\n",
      "Traceback (most recent call last):\n",
      "  File \"/Users/apple/spark-2.3.0-bin-hadoop2.7/python/lib/py4j-0.10.6-src.zip/py4j/java_gateway.py\", line 990, in start\n",
      "    self.socket.connect((self.address, self.port))\n",
      "ConnectionRefusedError: [Errno 61] Connection refused\n",
      "/Users/apple/spark-2.3.0-bin-hadoop2.7/python/pyspark/context.py:410: RuntimeWarning: Unable to cleanly shutdown Spark JVM process. It is possible that the process has crashed, been killed or may also be in a zombie state.\n",
      "  RuntimeWarning\n"
     ]
    }
   ],
   "source": [
    "spark.stop()"
   ]
  },
  {
   "cell_type": "code",
   "execution_count": 88,
   "metadata": {},
   "outputs": [],
   "source": [
    "rid = rid.collect()"
   ]
  },
  {
   "cell_type": "code",
   "execution_count": 89,
   "metadata": {},
   "outputs": [
    {
     "ename": "AssertionError",
     "evalue": "col should be Column",
     "output_type": "error",
     "traceback": [
      "\u001b[0;31m---------------------------------------------------------------------------\u001b[0m",
      "\u001b[0;31mAssertionError\u001b[0m                            Traceback (most recent call last)",
      "\u001b[0;32m<ipython-input-89-b9e69af05341>\u001b[0m in \u001b[0;36m<module>\u001b[0;34m()\u001b[0m\n\u001b[0;32m----> 1\u001b[0;31m \u001b[0mfeatures\u001b[0m\u001b[0;34m.\u001b[0m\u001b[0mtoDF\u001b[0m\u001b[0;34m(\u001b[0m\u001b[0;34m)\u001b[0m\u001b[0;34m.\u001b[0m\u001b[0mwithColumn\u001b[0m\u001b[0;34m(\u001b[0m\u001b[0;34m'rid'\u001b[0m\u001b[0;34m,\u001b[0m\u001b[0mrid\u001b[0m\u001b[0;34m)\u001b[0m\u001b[0;34m\u001b[0m\u001b[0m\n\u001b[0m",
      "\u001b[0;32m~/spark-2.3.0-bin-hadoop2.7/python/pyspark/sql/dataframe.py\u001b[0m in \u001b[0;36mwithColumn\u001b[0;34m(self, colName, col)\u001b[0m\n\u001b[1;32m   1846\u001b[0m \u001b[0;34m\u001b[0m\u001b[0m\n\u001b[1;32m   1847\u001b[0m         \"\"\"\n\u001b[0;32m-> 1848\u001b[0;31m         \u001b[0;32massert\u001b[0m \u001b[0misinstance\u001b[0m\u001b[0;34m(\u001b[0m\u001b[0mcol\u001b[0m\u001b[0;34m,\u001b[0m \u001b[0mColumn\u001b[0m\u001b[0;34m)\u001b[0m\u001b[0;34m,\u001b[0m \u001b[0;34m\"col should be Column\"\u001b[0m\u001b[0;34m\u001b[0m\u001b[0m\n\u001b[0m\u001b[1;32m   1849\u001b[0m         \u001b[0;32mreturn\u001b[0m \u001b[0mDataFrame\u001b[0m\u001b[0;34m(\u001b[0m\u001b[0mself\u001b[0m\u001b[0;34m.\u001b[0m\u001b[0m_jdf\u001b[0m\u001b[0;34m.\u001b[0m\u001b[0mwithColumn\u001b[0m\u001b[0;34m(\u001b[0m\u001b[0mcolName\u001b[0m\u001b[0;34m,\u001b[0m \u001b[0mcol\u001b[0m\u001b[0;34m.\u001b[0m\u001b[0m_jc\u001b[0m\u001b[0;34m)\u001b[0m\u001b[0;34m,\u001b[0m \u001b[0mself\u001b[0m\u001b[0;34m.\u001b[0m\u001b[0msql_ctx\u001b[0m\u001b[0;34m)\u001b[0m\u001b[0;34m\u001b[0m\u001b[0m\n\u001b[1;32m   1850\u001b[0m \u001b[0;34m\u001b[0m\u001b[0m\n",
      "\u001b[0;31mAssertionError\u001b[0m: col should be Column"
     ]
    }
   ],
   "source": [
    "features.toDF().withColumn('rid',rid)"
   ]
  },
  {
   "cell_type": "code",
   "execution_count": null,
   "metadata": {},
   "outputs": [],
   "source": [
    "outliers_all = "
   ]
  }
 ],
 "metadata": {
  "kernelspec": {
   "display_name": "Python 3",
   "language": "python",
   "name": "python3"
  },
  "language_info": {
   "codemirror_mode": {
    "name": "ipython",
    "version": 3
   },
   "file_extension": ".py",
   "mimetype": "text/x-python",
   "name": "python",
   "nbconvert_exporter": "python",
   "pygments_lexer": "ipython3",
   "version": "3.6.4"
  }
 },
 "nbformat": 4,
 "nbformat_minor": 2
}
