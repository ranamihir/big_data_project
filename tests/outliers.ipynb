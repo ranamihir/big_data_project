{
 "cells": [
  {
   "cell_type": "code",
   "execution_count": 2,
   "metadata": {
    "collapsed": true
   },
   "outputs": [],
   "source": [
    "from pyspark import SparkContext\n",
    "from pyspark.sql import SQLContext, SparkSession\n",
    "from pyspark.sql.functions import UserDefinedFunction\n",
    "from pyspark.sql.types import StringType, IntegerType, DoubleType\n",
    "from pyspark.sql.functions import *\n",
    "import utils"
   ]
  },
  {
   "cell_type": "code",
   "execution_count": 103,
   "metadata": {
    "collapsed": true
   },
   "outputs": [],
   "source": [
    "spark = SparkSession \\\n",
    "        .builder \\\n",
    "        .appName(\"Nulls and Outliers Detection 1\") \\\n",
    "        .getOrCreate()\n"
   ]
  },
  {
   "cell_type": "code",
   "execution_count": 104,
   "metadata": {
    "collapsed": true
   },
   "outputs": [],
   "source": [
    "df_test = spark.createDataFrame([('923,122,344.12','187,988', 'Porto', 10),('555,666,','888,444', \"Coimbra\",20), ('555,666.10,','888$,444', \"Coimbra\",11), ('555,666,','888,444', \"Coimbra\",8)], ['s1','s2', 's3', 'myint'])"
   ]
  },
  {
   "cell_type": "code",
   "execution_count": 106,
   "metadata": {
    "collapsed": true
   },
   "outputs": [],
   "source": [
    "df_temp = df = spark.read.csv(path = 'GROUP7/bss9-579f_clean/part-00000-919430be-1ef9-4fee-9d5f-c8cac19198b3-c000.csv', header = True,inferSchema = True, sep='\\t')"
   ]
  },
  {
   "cell_type": "code",
   "execution_count": 120,
   "metadata": {},
   "outputs": [
    {
     "data": {
      "text/plain": [
       "480"
      ]
     },
     "execution_count": 120,
     "metadata": {},
     "output_type": "execute_result"
    }
   ],
   "source": [
    "df_temp.count()"
   ]
  },
  {
   "cell_type": "code",
   "execution_count": 105,
   "metadata": {},
   "outputs": [
    {
     "name": "stdout",
     "output_type": "stream",
     "text": [
      "+--------------+--------+-------+-----+\n",
      "|            s1|      s2|     s3|myint|\n",
      "+--------------+--------+-------+-----+\n",
      "|923,122,344.12| 187,988|  Porto|   10|\n",
      "|      555,666,| 888,444|Coimbra|   20|\n",
      "|   555,666.10,|888$,444|Coimbra|   11|\n",
      "|      555,666,| 888,444|Coimbra|    8|\n",
      "+--------------+--------+-------+-----+\n",
      "\n"
     ]
    }
   ],
   "source": [
    "df_test.show()"
   ]
  },
  {
   "cell_type": "code",
   "execution_count": 56,
   "metadata": {},
   "outputs": [
    {
     "name": "stdout",
     "output_type": "stream",
     "text": [
      "### s1 ###\n",
      "\tIs string!\n",
      "\t['923,122,344.12', '555,666,', '555,666.10,', '555,666,']\n",
      "\tIs double actually!\n",
      "\t[923122344.12, 555666.0, 555666.1, 555666.0]\n",
      "### s2 ###\n",
      "\tIs string!\n",
      "\t['187,988', '888,444', '888$,444', '888,444']\n",
      "\tIs double actually!\n",
      "\t[187988.0, 888444.0, None, 888444.0]\n",
      "### s3 ###\n",
      "\tIs string!\n",
      "\t['Porto', 'Coimbra', 'Coimbra', 'Coimbra']\n",
      "\t['Porto', 'Coimbra', 'Coimbra', 'Coimbra']\n",
      "### myint ###\n"
     ]
    }
   ],
   "source": [
    "replaced_df = df_test\n",
    "for col, dtype in replaced_df.dtypes:\n",
    "    print(f\"### {col} ###\")\n",
    "    if 'string' in dtype:\n",
    "        print(f\"\\tIs string!\")\n",
    "        tmp_col = f\"{col}_temp\"\n",
    "        print(f\"\\t{replaced_df.select(col).limit(5).rdd.map(lambda x: x[0]).collect()}\")\n",
    "        replaced_df = replaced_df.withColumn(tmp_col, utils.replace_commas_symbols_udf(replaced_df[col]).cast(DoubleType()))\n",
    "        if utils.is_double(replaced_df, tmp_col):\n",
    "            print(f\"\\tIs double actually!\")\n",
    "            replaced_df = replaced_df.withColumn(col, replaced_df[tmp_col])\n",
    "        replaced_df = replaced_df.drop(tmp_col)\n",
    "        print(f\"\\t{replaced_df.select(col).limit(5).rdd.map(lambda x: x[0]).collect()}\")"
   ]
  },
  {
   "cell_type": "code",
   "execution_count": 16,
   "metadata": {},
   "outputs": [
    {
     "name": "stdout",
     "output_type": "stream",
     "text": [
      "Before: 4\n",
      "s1 not string: double\n",
      "--------------------\n",
      "s2 not string: double\n",
      "--------------------\n",
      "#### s3 (<5) ####\n",
      "distinct count: 2\n",
      "\n",
      "Coimbra\n",
      "Porto\n",
      "\n",
      "\n",
      "\n",
      "\n",
      "\n",
      "--------------------\n",
      "myint not string: bigint\n",
      "--------------------\n"
     ]
    }
   ],
   "source": [
    "df_clean = replaced_df\n",
    "null_val = 'NONE_VALUE_'\n",
    "print(f\"Before: {df_test.count()}\")\n",
    "for col, dtype in df_clean.dtypes:\n",
    "    if 'string' not in dtype:\n",
    "        print(f\"{col} not string: {dtype}\")\n",
    "        print(\"--\"*10)\n",
    "        continue\n",
    "    df_clean = df_clean.fillna(null_val, col)\n",
    "    if df_clean.select(col).distinct().count() > 5:\n",
    "        print(f\"#### {col} (>5) ####\")\n",
    "        print(f\"Before: {df_clean.count()}\")\n",
    "        df_clean = df_clean.filter(f\"{col} != 'NONE_VALUE_'\")\n",
    "        print(f\"After {col}: {df_clean.count()}\\n\")\n",
    "    else:\n",
    "        print(f\"#### {col} (<5) ####\")\n",
    "    l = df_clean.select(col).distinct().rdd.map(lambda x: x[0])\n",
    "    print(f\"distinct count: {l.count()}\\n\")\n",
    "    for v in sorted(l.collect()):\n",
    "        print(v)\n",
    "    print('\\n'*4)\n",
    "    print(\"--\"*10)"
   ]
  },
  {
   "cell_type": "code",
   "execution_count": 93,
   "metadata": {
    "collapsed": true
   },
   "outputs": [],
   "source": [
    "df_clean2 = replaced_df\n",
    "string_cols = [col for col, dtype in df_clean2.dtypes if 'string' in dtype]\n",
    "df_clean2 = df_clean2.dropna(subset=string_cols)"
   ]
  },
  {
   "cell_type": "code",
   "execution_count": 94,
   "metadata": {
    "collapsed": true
   },
   "outputs": [],
   "source": [
    "med = df_clean2.approxQuantile(\"s1\", [0.25,0.75], 0)"
   ]
  },
  {
   "cell_type": "code",
   "execution_count": 95,
   "metadata": {
    "collapsed": true
   },
   "outputs": [],
   "source": [
    "cols = ['s1','s2','myInt']\n",
    "bounds = {}\n",
    "for col in cols:\n",
    "    quantiles = df_clean2.approxQuantile(col,[0.25,0.75],0.05)\n",
    "    IQR = quantiles[1] - quantiles[0]\n",
    "    bounds[col] = [quantiles[0] - 1.5 * IQR,quantiles[1] + 1.5 * IQR]"
   ]
  },
  {
   "cell_type": "code",
   "execution_count": 96,
   "metadata": {},
   "outputs": [
    {
     "data": {
      "text/plain": [
       "{'myInt': [3.5, 15.5],\n",
       " 's1': [555665.8500000001, 555666.25],\n",
       " 's2': [-862696.0, 1939128.0]}"
      ]
     },
     "execution_count": 96,
     "metadata": {},
     "output_type": "execute_result"
    }
   ],
   "source": [
    "bounds"
   ]
  },
  {
   "cell_type": "code",
   "execution_count": 97,
   "metadata": {
    "collapsed": true
   },
   "outputs": [],
   "source": [
    "df_clean2 = df_clean2.withColumn(\"id\", monotonically_increasing_id())\n"
   ]
  },
  {
   "cell_type": "code",
   "execution_count": 98,
   "metadata": {},
   "outputs": [
    {
     "name": "stdout",
     "output_type": "stream",
     "text": [
      "+--------------+--------+-------+-----+-----------+\n",
      "|            s1|      s2|     s3|myint|         id|\n",
      "+--------------+--------+-------+-----+-----------+\n",
      "|9.2312234412E8|187988.0|  Porto|   10|          0|\n",
      "|      555666.0|888444.0|Coimbra|   20| 8589934592|\n",
      "|      555666.1|    null|Coimbra|   11|17179869184|\n",
      "|      555666.0|888444.0|Coimbra|    8|25769803776|\n",
      "+--------------+--------+-------+-----+-----------+\n",
      "\n"
     ]
    }
   ],
   "source": [
    "df_clean2.show()"
   ]
  },
  {
   "cell_type": "code",
   "execution_count": 100,
   "metadata": {},
   "outputs": [
    {
     "name": "stdout",
     "output_type": "stream",
     "text": [
      "+-----------+-----+\n",
      "|         id| s1_o|\n",
      "+-----------+-----+\n",
      "|          0| true|\n",
      "| 8589934592|false|\n",
      "|17179869184|false|\n",
      "|25769803776|false|\n",
      "+-----------+-----+\n",
      "\n"
     ]
    }
   ],
   "source": [
    "outliers = df_clean2.select(*['id'] + [((df_clean2['s1'] < bounds['s1'][0]) | (df_clean2['s1'] > bounds['s1'][1])).alias('s1'+'_o')])\n",
    "outliers.show()"
   ]
  },
  {
   "cell_type": "code",
   "execution_count": 71,
   "metadata": {},
   "outputs": [
    {
     "name": "stdout",
     "output_type": "stream",
     "text": [
      "+---+--------------+\n",
      "| id|            s1|\n",
      "+---+--------------+\n",
      "|  0|9.2312234412E8|\n",
      "+---+--------------+\n",
      "\n",
      "+---+---+\n",
      "| id| s2|\n",
      "+---+---+\n",
      "+---+---+\n",
      "\n",
      "+----------+-----+\n",
      "|        id|myInt|\n",
      "+----------+-----+\n",
      "|8589934592|   20|\n",
      "+----------+-----+\n",
      "\n"
     ]
    }
   ],
   "source": [
    "df_outliers = df_clean2.join(outliers, on='id')\n",
    "df_outliers.filter('s1_o').select('id', 's1').show()\n",
    "df_outliers.filter('s2_o').select('id', 's2').show()\n",
    "df_outliers.filter('myInt_o').select('id', 'myInt').show()"
   ]
  },
  {
   "cell_type": "code",
   "execution_count": 75,
   "metadata": {},
   "outputs": [
    {
     "name": "stdout",
     "output_type": "stream",
     "text": [
      "+-----------+-----+-----+-------+\n",
      "|         id| s1_o| s2_o|myint_o|\n",
      "+-----------+-----+-----+-------+\n",
      "|          0| true|false|  false|\n",
      "| 8589934592|false|false|   true|\n",
      "|17179869184|false| null|  false|\n",
      "|25769803776|false|false|  false|\n",
      "+-----------+-----+-----+-------+\n",
      "\n",
      "['s1', 's2', 'myint']\n",
      "+---+--------------+\n",
      "| id|            s1|\n",
      "+---+--------------+\n",
      "|  0|9.2312234412E8|\n",
      "+---+--------------+\n",
      "\n",
      "+---+---+\n",
      "| id| s2|\n",
      "+---+---+\n",
      "+---+---+\n",
      "\n",
      "+----------+-----+\n",
      "|        id|myint|\n",
      "+----------+-----+\n",
      "|8589934592|   20|\n",
      "+----------+-----+\n",
      "\n"
     ]
    }
   ],
   "source": [
    "df = df_clean2\n",
    "cols_to_check = []\n",
    "bounds = {}\n",
    "for col,dtype in df.dtypes:\n",
    "    if 'string' not in dtype and col!='id':\n",
    "        cols_to_check.append(col)\n",
    "        quantiles = df.approxQuantile(col,[0.25,0.75],0.05)\n",
    "        IQR = quantiles[1] - quantiles[0]\n",
    "        bounds[col] = [quantiles[0] - 1.5 * IQR,quantiles[1] + 1.5 * IQR]\n",
    "        \n",
    "df = df.withColumn(\"id\", monotonically_increasing_id())\n",
    "outliers = df.select(*['id'] + [((df[c] < bounds[c][0]) | (df[c] > bounds[c][1])).alias(c+'_o') for c in cols_to_check])\n",
    "outliers.show()\n",
    "\n",
    "df = df.join(outliers, on='id')\n",
    "#print(cols_to_check)\n",
    "for col in cols_to_check:\n",
    "    df_outliers.filter(col + '_o').select('id', col).show()\n",
    "    \n",
    "\n",
    "\n",
    "\n"
   ]
  },
  {
   "cell_type": "code",
   "execution_count": 77,
   "metadata": {},
   "outputs": [
    {
     "data": {
      "text/plain": [
       "True"
      ]
     },
     "execution_count": 77,
     "metadata": {},
     "output_type": "execute_result"
    }
   ],
   "source": [
    "'id' in df.columns"
   ]
  },
  {
   "cell_type": "code",
   "execution_count": 126,
   "metadata": {
    "collapsed": true
   },
   "outputs": [],
   "source": [
    "def get_outliers(df,col):\n",
    "    bounds = {}\n",
    "    quantiles = df.approxQuantile(col,[0.25,0.75],0.05)\n",
    "    IQR = quantiles[1] - quantiles[0]\n",
    "    bounds[col] = [quantiles[0] - 2 * IQR,quantiles[1] + 2 * IQR]\n",
    "    #print(bounds)\n",
    "    if 'rid'not in df.columns:\n",
    "        df = df.withColumn(\"rid\", monotonically_increasing_id())\n",
    "    outliers = df.select(*['rid'] + [((df[col] < bounds[col][0]) | (df[col] > bounds[col][1])).alias(col+'_o')])\n",
    "    df_outliers = df.join(outliers, on='rid')\n",
    "    df_outliers = df_outliers.filter(col + '_o').select('rid', col)\n",
    "    return df_outliers\n"
   ]
  },
  {
   "cell_type": "code",
   "execution_count": 127,
   "metadata": {
    "collapsed": true
   },
   "outputs": [],
   "source": [
    "df_count = df_temp.count() "
   ]
  },
  {
   "cell_type": "code",
   "execution_count": 130,
   "metadata": {},
   "outputs": [
    {
     "name": "stdout",
     "output_type": "stream",
     "text": [
      "comparable_rental_2_gross_sqft  counts: 45  % counts = 9.375%\n",
      "brooklyn_condominiums_comparable_properties_estimated_expense  counts: 46  % counts = 9.583333333333334%\n",
      "brooklyn_condominiums_comparable_properties_total_units  counts: 48  % counts = 10.0%\n",
      "brooklyn_condominiums_comparable_properties_expense_per_sqft  counts: 5  % counts = 1.0416666666666665%\n",
      "comparable_rental_2_gross_income_per_sqft  counts: 9  % counts = 1.875%\n",
      "comparable_rental_1_gross_income_per_sqft  counts: 4  % counts = 0.8333333333333334%\n",
      "comparable_rental_1_estimated_expense  counts: 53  % counts = 11.041666666666666%\n",
      "comparable_rental_1_net_operating_income  counts: 63  % counts = 13.125%\n",
      "comparable_rental_2_estimated_expense  counts: 52  % counts = 10.833333333333334%\n",
      "brooklyn_condominiums_comparable_properties_gross_sqft  counts: 45  % counts = 9.375%\n",
      "brooklyn_condominiums_comparable_properties_market_value_per_sqft  counts: 3  % counts = 0.625%\n",
      "brooklyn_condominiums_comparable_properties_gross_income_per_sqft  counts: 8  % counts = 1.6666666666666667%\n",
      "comparable_rental_2_estimated_gross_income  counts: 59  % counts = 12.291666666666666%\n",
      "comparable_rental_2_year_built  counts: 63  % counts = 13.125%\n",
      "brooklyn_condominiums_comparable_properties_full_market_value  counts: 53  % counts = 11.041666666666666%\n",
      "comparable_rental_2_distance_from_condo_in_miles  counts: 51  % counts = 10.625%\n",
      "comparable_rental_1_estimated_gross_income  counts: 66  % counts = 13.750000000000002%\n",
      "brooklyn_condominiums_comparable_properties_net_operating_income  counts: 52  % counts = 10.833333333333334%\n",
      "comparable_rental_1_year_built  counts: 104  % counts = 21.666666666666668%\n",
      "comparable_rental_3_distance_from_condo_in_miles  counts: 48  % counts = 10.0%\n",
      "comparable_rental_1_expense_per_sqft  counts: 1  % counts = 0.20833333333333334%\n",
      "comparable_rental_3_market_value_per_sqft  counts: 12  % counts = 2.5%\n",
      "brooklyn_condominiums_comparable_properties_estimated_gross_income  counts: 50  % counts = 10.416666666666668%\n",
      "comparable_rental_1_full_market_value  counts: 59  % counts = 12.291666666666666%\n",
      "comparable_rental_2_expense_per_sqft  counts: 0  % counts = 0.0%\n",
      "comparable_rental_3_year_built  counts: 73  % counts = 15.208333333333332%\n",
      "comparable_rental_3_expense_per_sqft  counts: 3  % counts = 0.625%\n",
      "comparable_rental_1_total_units  counts: 60  % counts = 12.5%\n",
      "comparable_rental_1_market_value_per_sqft  counts: 1  % counts = 0.20833333333333334%\n",
      "comparable_rental_2_total_units  counts: 53  % counts = 11.041666666666666%\n",
      "comparable_rental_2_full_market_value  counts: 36  % counts = 7.5%\n",
      "brooklyn_condominiums_comparable_properties_year_built  counts: 93  % counts = 19.375%\n",
      "comparable_rental_1_distance_from_condo_in_miles  counts: 41  % counts = 8.541666666666666%\n",
      "comparable_rental_3_total_units  counts: 35  % counts = 7.291666666666667%\n",
      "comparable_rental_2_net_operating_income  counts: 40  % counts = 8.333333333333332%\n",
      "comparable_rental_1_gross_sqft  counts: 70  % counts = 14.583333333333334%\n",
      "comparable_rental_2_market_value_per_sqft  counts: 14  % counts = 2.9166666666666665%\n",
      "comparable_rental_3_gross_income_per_sqft  counts: 16  % counts = 3.3333333333333335%\n"
     ]
    }
   ],
   "source": [
    "keyval = {}\n",
    "for col,dtype in df_temp.dtypes:\n",
    "    if 'string' not in dtype and col!='rid':\n",
    "        \n",
    "        keyval[col] = get_outliers(df_temp,col)\n",
    "        print(col , \" counts:\",keyval[col].count(),' % counts = {}%'.format(100*(keyval[col].count()/df_count)))\n",
    "        #print()\n",
    "        \n",
    "        "
   ]
  },
  {
   "cell_type": "code",
   "execution_count": null,
   "metadata": {
    "collapsed": true
   },
   "outputs": [],
   "source": [
    "clusters = KM"
   ]
  }
 ],
 "metadata": {
  "kernelspec": {
   "display_name": "Python 3",
   "language": "python",
   "name": "python3"
  },
  "language_info": {
   "codemirror_mode": {
    "name": "ipython",
    "version": 3
   },
   "file_extension": ".py",
   "mimetype": "text/x-python",
   "name": "python",
   "nbconvert_exporter": "python",
   "pygments_lexer": "ipython3",
   "version": "3.6.2"
  }
 },
 "nbformat": 4,
 "nbformat_minor": 2
}
